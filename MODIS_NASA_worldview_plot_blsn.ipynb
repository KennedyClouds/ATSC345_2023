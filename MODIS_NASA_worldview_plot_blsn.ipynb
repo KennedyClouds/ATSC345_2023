{
 "cells": [
  {
   "cell_type": "markdown",
   "metadata": {},
   "source": [
    "<b>This program loads Polar orbiter data from MODIS on the Terra/Aqua/Soumi satellites and plots it for a given domain.</b><br>"
   ]
  },
  {
   "cell_type": "code",
   "execution_count": null,
   "metadata": {},
   "outputs": [],
   "source": [
    "%matplotlib inline\n",
    "import warnings\n",
    "warnings.simplefilter('ignore')\n",
    "import matplotlib as mpl\n",
    "import matplotlib.pyplot as plt\n",
    "import cartopy.crs as ccrs\n",
    "import cartopy.feature as cfeature\n",
    "from PIL import Image\n",
    "import os, os.path, sys\n",
    "\n",
    "#Import files here, this is what you save from the NASA worldview website. \n",
    "image_modis1 = Image.open(\"data//sat/modis_blsn_ex.png\")\n",
    "\n",
    "\n",
    "#List lat lon boundaries here.  ll=lower left,  ur = upper right\n",
    "ll_lon = -99.2241\n",
    "ll_lat = 45.5098\n",
    "ur_lon = -94.5923\n",
    "ur_lat = 49.4517\n",
    "\n",
    "#Create figure size. 5x3 at 600dpi\n",
    "fig = plt.figure(figsize=(3,5),dpi=600)\n",
    "\n",
    "#Add first subplot\n",
    "ax = fig.add_subplot(1, 1, 1, projection=ccrs.PlateCarree())\n",
    "#Plot image data\n",
    "ax.imshow(image_modis1,origin='upper', extent=[ll_lon, ur_lon, ll_lat, ur_lat])\n",
    "#Plot geography, see: https://scitools.org.uk/cartopy/docs/v0.14/matplotlib/feature_interface.html\n",
    "ax.add_feature(cfeature.COASTLINE.with_scale('10m'), edgecolor='black')\n",
    "ax.add_feature(cfeature.STATES.with_scale('10m'), edgecolor='black')\n",
    "ax.add_feature(cfeature.LAKES.with_scale('10m'), edgecolor='black',facecolor='none',linewidth=0.25)\n",
    "#Annotate Plot, note coordinates are in x/y vs lat lon\n",
    "ax.annotate('Blowing Snow',\n",
    "            xy=(0.4, 0.7), xycoords='axes fraction',\n",
    "            xytext=(-50, 30), textcoords='offset points',\n",
    "            bbox=dict(boxstyle=\"round\", fc=\"w\"),\n",
    "            arrowprops=dict(arrowstyle=\"->\"),fontsize=5)\n",
    "#set panel 1 title here\n",
    "ax.set_title('12 February 2020',fontweight=\"bold\",fontsize=8)\n",
    "\n",
    "plt.savefig('output//MODIS_blsn_ex.png',dpi=300) \n",
    "plt.show()"
   ]
  },
  {
   "cell_type": "code",
   "execution_count": null,
   "metadata": {},
   "outputs": [],
   "source": []
  }
 ],
 "metadata": {
  "kernelspec": {
   "display_name": "Python 3 (ipykernel)",
   "language": "python",
   "name": "python3"
  },
  "language_info": {
   "codemirror_mode": {
    "name": "ipython",
    "version": 3
   },
   "file_extension": ".py",
   "mimetype": "text/x-python",
   "name": "python",
   "nbconvert_exporter": "python",
   "pygments_lexer": "ipython3",
   "version": "3.8.12"
  }
 },
 "nbformat": 4,
 "nbformat_minor": 1
}
