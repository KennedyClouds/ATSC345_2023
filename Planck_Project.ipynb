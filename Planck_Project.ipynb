{
 "cells": [
  {
   "cell_type": "code",
   "execution_count": 2,
   "metadata": {},
   "outputs": [
    {
     "name": "stdout",
     "output_type": "stream",
     "text": [
      "Loading modules... \n",
      "Done...\n"
     ]
    },
    {
     "name": "stderr",
     "output_type": "stream",
     "text": [
      "<ipython-input-2-7ad4a31305d5>:26: RuntimeWarning: overflow encountered in exp\n",
      "  intensity = a/ ( (lam**5) * (np.exp(b) - 1.0) )\n",
      "<ipython-input-2-7ad4a31305d5>:35: RuntimeWarning: overflow encountered in exp\n",
      "  intensity = a/ ( (lam**5) * (np.exp(b)) )\n"
     ]
    },
    {
     "data": {
      "image/png": "[encoded data removed]",
      "text/plain": [
       "<Figure size 432x288 with 1 Axes>"
      ]
     },
     "metadata": {
      "needs_background": "light"
     },
     "output_type": "display_data"
    }
   ],
   "source": [
    "\"\"\"\n",
    "This program plots the Planck function of a blackbody object\n",
    "\"\"\"\n",
    "\n",
    "print(\"Loading modules... \")\n",
    "import matplotlib.pyplot as p #import pylab as p\n",
    "import numpy as np #import numpy as np\n",
    "import math\n",
    "print(\"Done...\")\n",
    "\n",
    "#Constants for Planck\n",
    "h=6.626E-34      #Planck's  Constant\n",
    "k=1.381E-23      #Boltzmann's Constant\n",
    "c=2.988E8        #Speed of Light\n",
    "\n",
    "#Information to Input\n",
    "Tsun=6000.                 #Temperature of object in Kelvin\n",
    "Tearth=300.\n",
    "#Define function to calculate Planck emission\n",
    "\n",
    "def B(lam,T):\n",
    "    #u=1.*h*c/(lam*k*T) #To prevent overflow\n",
    "    #return (2.*h*c*c)/((math.exp(u)-1.)*(lam**5))\n",
    "    a = 2.0*h*c**2\n",
    "    b = h*c/(lam*k*T)\n",
    "    intensity = a/ ( (lam**5) * (np.exp(b) - 1.0) )\n",
    "    return intensity\n",
    "\n",
    "########################CREATE FUNCTIONS HERE FOR THE APPROXIMATIONS###############\n",
    "def Bshort(lam,T):\n",
    "    #u=1.*h*c/(lam*k*T) #To prevent overflow\n",
    "    #return (2.*h*c*c)/((math.exp(u)-1.)*(lam**5))\n",
    "    a = 2.0*h*c**2\n",
    "    b = h*c/(lam*k*T)\n",
    "    intensity = a/ ( (lam**5) * (np.exp(b)) )\n",
    "    return intensity\n",
    "\n",
    "###################################################################################\n",
    "\n",
    "#Create array of wavelengths (in meters)\n",
    "lamarray=np.append(np.arange(1e-8, 1e-4, 1e-8),np.arange(1e-4, 100e-3, 1e-4))\n",
    "\n",
    "#Calculate blackbody emission using the functions\n",
    "sun_blackbody_full=B(lamarray,Tsun)\n",
    "earth_blackbody_full=B(lamarray,Tearth)\n",
    "\n",
    "earth_blackbody_short=Bshort(lamarray,Tearth)\n",
    "\n",
    "\n",
    "#p.plot(lamarray*10**6.,sun_blackbody_full,linewidth=2,color=\"red\",label=\"6000K\",) \n",
    "p.plot(lamarray*10**6.,earth_blackbody_full,linewidth=2,color=\"blue\",label=\"300K\",linestyle='-')\n",
    "p.plot(lamarray*10**6.,earth_blackbody_short,linewidth=2,color=\"purple\",label=\"300K short\",linestyle='-') \n",
    "####Add plot commands as needed to plot additional lines. Make sure each line is different color or style\n",
    "\n",
    "p.title(\"Planck Function\")\n",
    "p.xlabel(\"Wavelenth (Microns)\")\n",
    "p.ylabel(\"Blackbody Emission $ W m^{-2} \\mu m^{-1} Sr^{-1} $\")\n",
    "p.xscale('log')\n",
    "p.yscale('log')\n",
    "p.axis([1e-2, 100e3, 10e-7, 10e17])\n",
    "p.legend(loc=\"upper right\")\n",
    "#p.savefig('output//WH3_Planck.png',dpi=150) \n",
    "p.show()"
   ]
  },
  {
   "cell_type": "code",
   "execution_count": null,
   "metadata": {},
   "outputs": [],
   "source": []
  },
  {
   "cell_type": "code",
   "execution_count": null,
   "metadata": {},
   "outputs": [],
   "source": []
  }
 ],
 "metadata": {
  "kernelspec": {
   "display_name": "Python 3",
   "language": "python",
   "name": "python3"
  },
  "language_info": {
   "codemirror_mode": {
    "name": "ipython",
    "version": 3
   },
   "file_extension": ".py",
   "mimetype": "text/x-python",
   "name": "python",
   "nbconvert_exporter": "python",
   "pygments_lexer": "ipython3",
   "version": "3.8.5"
  }
 },
 "nbformat": 4,
 "nbformat_minor": 1
}
