{
 "cells": [
  {
   "cell_type": "markdown",
   "metadata": {},
   "source": [
    "This program plots brightness temp with a colorbar for IR imagery (e.g. WV and long IR bands). "
   ]
  },
  {
   "cell_type": "code",
   "execution_count": null,
   "metadata": {},
   "outputs": [],
   "source": [
    "%matplotlib inline\n",
    "import warnings\n",
    "warnings.simplefilter('ignore')\n",
    "import h5py\n",
    "from satpy import Scene\n",
    "from satpy.writers import get_enhanced_image\n",
    "from glob import glob\n",
    "import matplotlib as mpl\n",
    "import matplotlib.pyplot as plt\n",
    "import cartopy.crs as ccrs\n",
    "import cartopy.feature as cfeature\n",
    "import pandas as pd\n",
    "\n",
    "mpl.rcParams['axes.linewidth'] = 3 #set the value globally\n",
    "\n",
    "#Define directory\n",
    "BASE_DIR = 'data//sat//'\n",
    "#Time of file, this should be changed for other scenes!!!\n",
    "date='20191490301389'\n",
    "hour=date[7:11]\n",
    "#Load scene, grabs all data with given start time. Foes GOES16 L1B -> C01-C16\n",
    "scn = Scene(reader='abi_l1b', filenames=glob(BASE_DIR+'OR_ABI-L1b-RadC-*s'+date+'*.nc'))\n",
    "\n",
    "#Change this line to the appropriate channel. \n",
    "chan='C13'\n",
    "scn.load([chan])\n",
    "\n",
    "fig = plt.figure(figsize=(10,15), dpi=600)\n",
    "abi_crs = scn[chan].attrs['area'].to_cartopy_crs()\n",
    "ax = fig.add_subplot(1, 1, 1, projection=ccrs.PlateCarree())\n",
    "ax.set_extent([-120, -70, 30, 50], crs=ccrs.PlateCarree())\n",
    "#ax.imshow(var.data, extent=(var.x[0], var.x[-1], var.y[-1], var.y[0]), origin='upper',cmap='Greys')\n",
    "data = ax.imshow(scn[chan], extent=abi_crs.bounds, origin='upper',cmap='viridis',transform=abi_crs)\n",
    "ax.add_feature(cfeature.COASTLINE.with_scale('10m'), edgecolor='black')\n",
    "ax.add_feature(cfeature.STATES.with_scale('10m'), edgecolor='black')\n",
    "#change title and colorbar label accordingly\n",
    "ax.set_title(hour+' UTC - 28 May 2019 - Band 13 - (10.3 $\\mu$m)',fontweight=\"bold\",fontsize=12)\n",
    "\n",
    "cbar = plt.colorbar(data,orientation=\"horizontal\",pad=0.02,shrink=0.75)\n",
    "cbar.set_label(\"Brightness Temperature (K)\")\n",
    "#specify file name here\n",
    "#plt.savefig('output//example.png',dpi=300,bbox_inches='tight')\n",
    "plt.show()"
   ]
  },
  {
   "cell_type": "code",
   "execution_count": null,
   "metadata": {},
   "outputs": [],
   "source": []
  }
 ],
 "metadata": {
  "kernelspec": {
   "display_name": "Python 3 (ipykernel)",
   "language": "python",
   "name": "python3"
  },
  "language_info": {
   "codemirror_mode": {
    "name": "ipython",
    "version": 3
   },
   "file_extension": ".py",
   "mimetype": "text/x-python",
   "name": "python",
   "nbconvert_exporter": "python",
   "pygments_lexer": "ipython3",
   "version": "3.8.12"
  }
 },
 "nbformat": 4,
 "nbformat_minor": 1
}
