{
 "cells": [
  {
   "cell_type": "markdown",
   "metadata": {},
   "source": [
    "<h1>Introduction to Python</h1>\n",
    "\n",
    "<p>Welcome to Python!  You should be viewing this within your Python Notebook viewer.  This is an interactive editor that allows you to combine snippets of code with html markup language.  This 'cell' for example is html markup. It allows us to provide some narrative and instruction to any code cells below.</p>\n",
    "\n",
    "<h3 style=\"color:blue\">Exercise: </h3>\n",
    "<p>In the below cell, try running:</p>\n",
    "<code> print(\"Hello World\") </code>\n",
    "<p>Run the cell by clicking within it, then hitting ctrl+enter. You can also use the play button above.</p>"
   ]
  },
  {
   "cell_type": "code",
   "execution_count": null,
   "metadata": {},
   "outputs": [],
   "source": [
    "print (\"Hello World\")"
   ]
  },
  {
   "cell_type": "markdown",
   "metadata": {},
   "source": [
    "<h1>Basic Data and Control Structures (Chapter 3 in Lin)</h1>\n",
    "\n",
    "Python is a dynamically typed language which means variables are assigned a type when they are created. Some types include:\n",
    "    <ul>Integer and Floats</ul>\n",
    "    <ul>Strings</ul>\n",
    "    <ul>Boolean (True/Flase)</ul>\n",
    "    <ul>Lists and Tuples</ul>\n",
    "    \n",
    "<h3 style=\"color:blue\">Exercise: </h3>\n",
    "    <ul>1. Define a variable \"a\" as: 5 , 5.0,  and '5'. What type does pyhon return? 'type(a)' </ul>\n",
    "  "
   ]
  },
  {
   "cell_type": "code",
   "execution_count": null,
   "metadata": {},
   "outputs": [],
   "source": [
    "a=5"
   ]
  },
  {
   "cell_type": "markdown",
   "metadata": {},
   "source": [
    "One unique aspect of Python is the ability to merge different data types into arrays. This is called a list.\n",
    "Example: "
   ]
  },
  {
   "cell_type": "code",
   "execution_count": null,
   "metadata": {},
   "outputs": [],
   "source": [
    "a = [2, 3.2, 'Hello',[-1.2, 'there', 5.5]]"
   ]
  },
  {
   "cell_type": "markdown",
   "metadata": {},
   "source": [
    "Indicies of arrays and lists start at position 0. a[0] = 2. For lists within lists (as above), use the syntax a[3][1].  There are also a number of functions to determine properties of arrays/lists. \n",
    "<ul>Length:  len(a)</ul>\n",
    "<ul>Subsets of lists:  a[1:3] </ul>\n",
    "<ul>Insert into list:  a.insert(2,'everyone')</ul>\n",
    "<ul>Remove from list:  a.remove(2)</ul>\n",
    "<ul>Append to list:  a.append(4.5) </ul>\n",
    "\n",
    "<h3 style=\"color:blue\">Exercise: </h3>\n",
    "    <ul>Using the above list, try out some of these commands </ul>"
   ]
  },
  {
   "cell_type": "code",
   "execution_count": null,
   "metadata": {},
   "outputs": [],
   "source": []
  },
  {
   "cell_type": "markdown",
   "metadata": {},
   "source": [
    "<h1>Defining Functions (to make life easy!)</h1>\n",
    "In many situations you are asked to calculate things based off mathmatical equations in class. Typing these in on a calculator or doing it by hand is a good way to learn, but introduces human error. If you need to calculate a number of values, this can just be a pain and quite time consuming.  \n",
    "\n",
    "Functions allow us to define mathmatical formula such that we can easily calculate values as any point in a program.\n",
    "\n",
    "Consider the case where we want to calculate the area of a circle: "
   ]
  },
  {
   "cell_type": "code",
   "execution_count": null,
   "metadata": {},
   "outputs": [],
   "source": [
    "## Define a function named 'area' Input includes the radius.\n",
    "def area(radius):\n",
    "    area = 3.14 * (radius**2)\n",
    "    return area\n",
    "\n",
    "print(area(3), area(1))"
   ]
  },
  {
   "cell_type": "code",
   "execution_count": null,
   "metadata": {},
   "outputs": [],
   "source": [
    "def sconstant(distance):\n",
    "    sflux = 6.28E7\n",
    "    rsun = 7.0E5\n",
    "    sconstant = sflux * rsun * rsun / (distance * distance)\n",
    "    return sconstant\n",
    "\n",
    "dmer = 5.8E7\n",
    "dven = 1.1E8\n",
    "print(sconstant(dmer), sconstant(dven))"
   ]
  },
  {
   "cell_type": "markdown",
   "metadata": {},
   "source": [
    "<h3 style=\"color:blue\">Exercise: </h3>\n",
    "    <ul>In the cell below, create a function to calculate pressure from the ideal gas law</ul>\n",
    "    <ul>Recall the dry air constant is 287 J/kgK</ul>"
   ]
  },
  {
   "cell_type": "code",
   "execution_count": null,
   "metadata": {},
   "outputs": [],
   "source": []
  },
  {
   "cell_type": "markdown",
   "metadata": {},
   "source": [
    "<h1>Modules/Packages in Python</h1>\n",
    "During our python install, we downloaded a number of modules. Modules are programs written by others (or yourself) to add additional features to the language. For example, we could have made a module that includes the area function such that you don't have to program this again. \n",
    "\n",
    "To enable a package, we must 'import' it into Python.  Once it is imported and run in a cell, it will be available in other cells (after the import cell has been run using ctrl-enter)\n",
    "\n",
    "One of the most common modules is NumPy which is an array package for Python that allows for a number of nifty matrix and array manipulation commands. Lets import it: "
   ]
  },
  {
   "cell_type": "code",
   "execution_count": null,
   "metadata": {},
   "outputs": [],
   "source": [
    "import numpy"
   ]
  },
  {
   "cell_type": "markdown",
   "metadata": {},
   "source": [
    "A 'cheatsheet' for numpy exists at: http://mathesaurus.sourceforge.net/numeric-numpy.html  Let's try one of the commands: sin()"
   ]
  },
  {
   "cell_type": "code",
   "execution_count": null,
   "metadata": {},
   "outputs": [],
   "source": [
    "from IPython.display import HTML\n",
    "HTML('<iframe src=\"http://mathesaurus.sourceforge.net/numeric-numpy.html\" width=800 height=400></iframe>')"
   ]
  },
  {
   "cell_type": "code",
   "execution_count": null,
   "metadata": {},
   "outputs": [],
   "source": [
    "a=numpy.sin(4)\n",
    "print(a)"
   ]
  },
  {
   "cell_type": "markdown",
   "metadata": {},
   "source": [
    "When writing out formula, it can be lengthy to writeout numpy for each instance. To shorten this, we can import the module and rename it."
   ]
  },
  {
   "cell_type": "code",
   "execution_count": null,
   "metadata": {},
   "outputs": [],
   "source": [
    "import numpy as np\n",
    "a=np.sin(4)\n",
    "print(a)"
   ]
  },
  {
   "cell_type": "markdown",
   "metadata": {},
   "source": [
    "<h3 style=\"color:blue\">Exercise: </h3>\n",
    "    <ul>Using the array: T = [273.4, 265.5, 277.7, 285.5]</ul>\n",
    "    <ul>Calculate the min/max of the array using numpy functions</ul>"
   ]
  },
  {
   "cell_type": "code",
   "execution_count": null,
   "metadata": {},
   "outputs": [],
   "source": []
  },
  {
   "cell_type": "markdown",
   "metadata": {},
   "source": [
    "<h1>Working with arrays/calculations</h1>\n",
    "At this point you might be worried... it this a programming or remote sensing course?  We are almost done. The last step is\n",
    "to put this knowledge to practice and demonstrate how we can calculate and plot formula and overall, save time/effort compared\n",
    "to doing the same task in Excel. "
   ]
  },
  {
   "cell_type": "markdown",
   "metadata": {},
   "source": [
    "Consider the case where you are asked to calculate the area of a circle for either a range of values, or for specific points. We can accomplish these tasks using either loops or calculations on the array. "
   ]
  },
  {
   "cell_type": "code",
   "execution_count": null,
   "metadata": {},
   "outputs": [],
   "source": [
    "#Loop Example. You are asked to calculate the area for the following radii: 1,5,7.89,9,23\n",
    "import numpy as np\n",
    "\n",
    "def area(radius):\n",
    "    area = 3.14 * (radius**2)\n",
    "    return area\n",
    "\n",
    "radii=[1,5,7.89,9,23] ##Python List\n",
    "areas=np.zeros(5) ##create array to hold area values we calculate\n",
    "for i in range(5):\n",
    "    areas[i] = area(radii[i])\n",
    "\n",
    "print(areas)\n"
   ]
  },
  {
   "cell_type": "code",
   "execution_count": null,
   "metadata": {},
   "outputs": [],
   "source": [
    "#Array Example. You are asked to calculate the area for the following radii: 1,5,7.89,9,23\n",
    "import numpy as np\n",
    "\n",
    "def area(radius):\n",
    "    area = 3.14 * (radius**2)\n",
    "    return area\n",
    "\n",
    "radii=np.array([1,5,7.89,9,23]) #Create numpy array with our values\n",
    "areas = area(radii)\n",
    "\n",
    "print(areas)"
   ]
  },
  {
   "cell_type": "code",
   "execution_count": null,
   "metadata": {},
   "outputs": [],
   "source": [
    "#Array Example. You are asked to calculate the area for a range of values, 0-100\n",
    "import numpy as np\n",
    "\n",
    "def area(radius):\n",
    "    area = 3.14 * (radius**2)\n",
    "    return area\n",
    "\n",
    "## There are functions within numpy to create arrays filled with values: \n",
    "radii=np.arange(0,100,1) ## This creates an array filled with values from 0-100 in increments of 1. \n",
    "areas = area(radii)\n",
    "\n",
    "print(areas)"
   ]
  },
  {
   "cell_type": "markdown",
   "metadata": {},
   "source": [
    "<h1> Basic Plotting</h1>"
   ]
  },
  {
   "cell_type": "code",
   "execution_count": null,
   "metadata": {},
   "outputs": [],
   "source": [
    "# These two lines turn on inline plotting (within the notebook) \n",
    "%matplotlib inline\n",
    "import matplotlib.pyplot as plt"
   ]
  },
  {
   "cell_type": "code",
   "execution_count": null,
   "metadata": {},
   "outputs": [],
   "source": [
    "plt.plot([1,2,3,10])\n",
    "plt.ylabel('y label') \n",
    "plt.xlabel('x label')"
   ]
  },
  {
   "cell_type": "markdown",
   "metadata": {},
   "source": [
    "<p>Now lets make a plot of Earth's brightness temperature given the albedo. Don't worry about what any of this means (just yet!).</p>"
   ]
  },
  {
   "cell_type": "code",
   "execution_count": null,
   "metadata": {},
   "outputs": [],
   "source": [
    "import numpy as np #Import numpy library as np= this makes it shorthand to write. \n",
    "#This creates an array of albedos from 0 to 1 in increments of 0.01\n",
    "a=np.arange(0., 1, 0.01) #See, we refer to numpy as np here. \n",
    "Sig=5.67*10**(-8) #Stefan Boltzmann constant\n",
    "S=1368. #Solar Constant\n",
    "Tb=(S*(1.-a)/(4.*Sig))**0.25"
   ]
  },
  {
   "cell_type": "markdown",
   "metadata": {},
   "source": [
    "<p>Now we have an array of albedo and the brightness temperature.  Why don't you try plotting these variables?  Note that since we already ran the previous cell with matplotlib, we don't need to import again.   Add axis titles to the graph. </p>"
   ]
  },
  {
   "cell_type": "code",
   "execution_count": null,
   "metadata": {},
   "outputs": [],
   "source": []
  },
  {
   "cell_type": "markdown",
   "metadata": {},
   "source": [
    "<p>Hopefully if this went well, you have a plot of Brightness temperature as a function of albedo with the proper axis titles.  This was displayed inline. What if you want to save it to a file so you can print it out for a homework?</p>"
   ]
  },
  {
   "cell_type": "code",
   "execution_count": null,
   "metadata": {},
   "outputs": [],
   "source": [
    "\n",
    "plt.savefig('output//myfig',dpi=300)"
   ]
  },
  {
   "cell_type": "markdown",
   "metadata": {},
   "source": [
    "<p> As a final test, create a plot of the total flux density from a blackbody. Rather than using our defined constant above, utilize the constants already saved in Scipy which are listed at: http://docs.scipy.org/doc/scipy/reference/constants.html</p>\n",
    "<p> For example, to get the value of gravity: </p>\n",
    "<code>\n",
    "from scipy.constants import codata\n",
    "g=codata.value('standard acceleration of gravity')\n",
    "print(g)\n",
    ">> 9.80665\n",
    "</code>\n",
    "<p> "
   ]
  },
  {
   "cell_type": "code",
   "execution_count": null,
   "metadata": {},
   "outputs": [],
   "source": []
  }
 ],
 "metadata": {
  "celltoolbar": "Raw Cell Format",
  "kernelspec": {
   "display_name": "Python 3",
   "language": "python",
   "name": "python3"
  },
  "language_info": {
   "codemirror_mode": {
    "name": "ipython",
    "version": 3
   },
   "file_extension": ".py",
   "mimetype": "text/x-python",
   "name": "python",
   "nbconvert_exporter": "python",
   "pygments_lexer": "ipython3",
   "version": "3.8.5"
  }
 },
 "nbformat": 4,
 "nbformat_minor": 1
}
