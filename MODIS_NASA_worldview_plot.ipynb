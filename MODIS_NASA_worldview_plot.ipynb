{
 "cells": [
  {
   "cell_type": "markdown",
   "metadata": {},
   "source": [
    "<b>This program loads Polar orbiter data from MODIS on the Terra/Aqua/Soumi satellites and plots it for a given domain.</b><br>"
   ]
  },
  {
   "cell_type": "code",
   "execution_count": null,
   "metadata": {},
   "outputs": [],
   "source": [
    "%matplotlib inline\n",
    "import warnings\n",
    "warnings.simplefilter('ignore')\n",
    "import matplotlib as mpl\n",
    "import matplotlib.pyplot as plt\n",
    "import cartopy.crs as ccrs\n",
    "import cartopy.feature as cfeature\n",
    "from PIL import Image\n",
    "import os, os.path, sys\n",
    "\n",
    "#Import files here, this is what you save from the NASA worldview website. \n",
    "image_modis1 = Image.open(\"data/sat/snapshot-2021-07-02T00_00_00Z.jpg\")\n",
    "\n",
    "\n",
    "#List lat lon boundaries here.  ll=lower left,  ur = upper right\n",
    "ll_lon = -109.6623\n",
    "ll_lat = 40.6221\n",
    "ur_lon = -86.9462\n",
    "ur_lat = 57.4931\n",
    "\n",
    "#Create figure size. 5x3 at 600dpi\n",
    "fig = plt.figure(figsize=(5,3),dpi=600,facecolor=\"white\")\n",
    "\n",
    "#Add first subplot\n",
    "ax = fig.add_subplot(1, 1, 1, projection=ccrs.PlateCarree())\n",
    "#Plot image data\n",
    "ax.imshow(image_modis1,origin='upper', extent=[ll_lon, ur_lon, ll_lat, ur_lat])\n",
    "#Plot geography, see: https://scitools.org.uk/cartopy/docs/v0.14/matplotlib/feature_interface.html\n",
    "ax.add_feature(cfeature.COASTLINE.with_scale('10m'), edgecolor='black')\n",
    "ax.add_feature(cfeature.STATES.with_scale('10m'), edgecolor='black')\n",
    "ax.add_feature(cfeature.LAKES.with_scale('10m'), edgecolor='black',facecolor='none',linewidth=0.25)\n",
    "#add a point for Grand Forks\n",
    "ax.plot(-97.09, 47.92,color='red',transform=ccrs.PlateCarree(),marker='o',zorder=2,markersize=2)\n",
    "ax.set_title('2 July 2021',fontweight=\"bold\",fontsize=8)\n",
    "\n",
    "plt.savefig('output//20210702.png',dpi=300,bbox_inches='tight') \n",
    "plt.show()"
   ]
  },
  {
   "cell_type": "code",
   "execution_count": null,
   "metadata": {},
   "outputs": [],
   "source": []
  }
 ],
 "metadata": {
  "kernelspec": {
   "display_name": "Python 3 (ipykernel)",
   "language": "python",
   "name": "python3"
  },
  "language_info": {
   "codemirror_mode": {
    "name": "ipython",
    "version": 3
   },
   "file_extension": ".py",
   "mimetype": "text/x-python",
   "name": "python",
   "nbconvert_exporter": "python",
   "pygments_lexer": "ipython3",
   "version": "3.8.12"
  }
 },
 "nbformat": 4,
 "nbformat_minor": 4
}
